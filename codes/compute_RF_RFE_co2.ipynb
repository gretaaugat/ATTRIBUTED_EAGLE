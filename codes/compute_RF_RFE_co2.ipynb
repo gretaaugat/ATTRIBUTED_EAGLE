{
 "cells": [
  {
   "cell_type": "code",
   "execution_count": 1,
   "id": "aae18165-7d84-4b30-9614-838b88d10bc9",
   "metadata": {},
   "outputs": [],
   "source": [
    "import pandas as pd\n",
    "import glob\n",
    "import os\n",
    "from sklearn.feature_selection import RFE\n",
    "from sklearn.tree import DecisionTreeRegressor\n",
    "from sklearn.neighbors import KNeighborsRegressor\n",
    "from sklearn.ensemble import RandomForestRegressor\n",
    "from sklearn import preprocessing\n",
    "from sklearn.metrics import root_mean_squared_error\n",
    "le = preprocessing.LabelEncoder()\n",
    "from tqdm.notebook import tqdm\n",
    "import json"
   ]
  },
  {
   "cell_type": "code",
   "execution_count": 2,
   "id": "398baef9-23a8-47bc-a72f-165163bfe79b",
   "metadata": {},
   "outputs": [],
   "source": [
    "folds = glob.glob(\"../results_co2/folds/*\")"
   ]
  },
  {
   "cell_type": "code",
   "execution_count": 3,
   "id": "f256c2f6-6364-4528-b505-2e12123dfcde",
   "metadata": {},
   "outputs": [],
   "source": [
    "def calculate_sae(y_pred,  y_true):\n",
    "    OldRange = (y_pred.max() - y_pred.min())\n",
    "    NewRange = (y_true.max() - y_true.min())\n",
    "    y_pred = (((y_pred - y_pred.min()) * NewRange)/OldRange) + y_true.min()\n",
    "    sae =  abs(y_pred - y_true).sum()\n",
    "    return sae\n",
    "\n",
    "def calculate_rmse(y_pred,  y_true):\n",
    "    rmse = root_mean_squared_error(y_true, y_pred)\n",
    "    return rmse"
   ]
  },
  {
   "cell_type": "code",
   "execution_count": 4,
   "id": "f70c48ef",
   "metadata": {},
   "outputs": [],
   "source": [
    "def convert_txt_to_json(input_path, output_path):\n",
    "\n",
    "    df = pd.read_csv(input_path, header=None)\n",
    "    features_list = df.iloc[:, 0].astype(str).tolist()\n",
    "    \n",
    "    data_json = {'selected_features': features_list}\n",
    "    \n",
    "    with open(output_path, 'w') as f:\n",
    "        json.dump(data_json, f, indent=4)"
   ]
  },
  {
   "cell_type": "code",
   "execution_count": 5,
   "id": "314c5b37",
   "metadata": {},
   "outputs": [],
   "source": [
    "#Deterministic feature selection\n",
    "\n",
    "from sklearn.tree import DecisionTreeRegressor\n",
    "from sklearn.feature_selection import RFE\n",
    "from sklearn.ensemble import RandomForestRegressor\n",
    "import pandas as pd\n",
    "\n",
    "results = {}\n",
    "\n",
    "n_features = 265  # Adjust to the number of features selected by CFS\n",
    "\n",
    "df_all = pd.read_csv('../datasets/br_data_census_2010_co2_log.csv',low_memory=False,index_col=0)\n",
    "\n",
    "# Data sanitization - Removing GEO_ and GLOBAL_ features\n",
    "filter_col = [col for col in df_all if col.startswith('GEO')]\n",
    "df_all = df_all[df_all.columns.drop(list(filter_col))]\n",
    "filter_col2 = [col for col in df_all if col.startswith('GLOBAL')]\n",
    "df_all = df_all[df_all.columns.drop(list(filter_col2))]\n",
    "\n",
    "X_train = df_all.iloc[:, :-1]\n",
    "y_train = df_all.iloc[:, -1]\n",
    "\n",
    "# Set random state for reproducibility\n",
    "X_train = X_train.sample(frac=1, random_state=42).reset_index(drop=True)\n",
    "y_train = y_train.sample(frac=1, random_state=42).reset_index(drop=True)\n",
    "\n",
    "# Model for RFE\n",
    "estimator = DecisionTreeRegressor(max_depth=5, random_state=42)\n",
    "selector = RFE(estimator, n_features_to_select=n_features, step=100)\n",
    "\n",
    "for column_name in X_train.columns:\n",
    "    if X_train[column_name].dtype == object:\n",
    "        X_train[column_name] = le.fit_transform(X_train[column_name])\n",
    "\n",
    "selector.fit(X_train, y_train)\n",
    "\n",
    "# Save RFE-selected features\n",
    "pd.DataFrame(X_train.columns[selector.support_]).to_csv(\n",
    "    'features_selected_co2/features_co2_rfe.txt', index=False, header=False\n",
    ")\n",
    "\n",
    "# Model for feature importance\n",
    "rf = RandomForestRegressor(n_estimators=10, max_depth=5, random_state=42)\n",
    "rf.fit(X_train, y_train)\n",
    "\n",
    "# Save RF-selected features\n",
    "pd.DataFrame(X_train.columns[rf.feature_importances_.argsort()[::-1][0:n_features]]).to_csv(\n",
    "    'features_selected_co2/features_co2_rf.txt', index=False, header=False\n",
    ")"
   ]
  },
  {
   "cell_type": "code",
   "execution_count": 6,
   "id": "62cdd6e7",
   "metadata": {},
   "outputs": [],
   "source": [
    "convert_txt_to_json('features_selected_co2/features_co2_rfe.txt', 'features_selected_co2/rfe.json')\n",
    "convert_txt_to_json('features_selected_co2/features_co2_rf.txt', 'features_selected_co2/rf.json')"
   ]
  }
 ],
 "metadata": {
  "kernelspec": {
   "display_name": "meu_env_py312",
   "language": "python",
   "name": "meu_env_py312"
  },
  "language_info": {
   "codemirror_mode": {
    "name": "ipython",
    "version": 3
   },
   "file_extension": ".py",
   "mimetype": "text/x-python",
   "name": "python",
   "nbconvert_exporter": "python",
   "pygments_lexer": "ipython3",
   "version": "3.12.10"
  }
 },
 "nbformat": 4,
 "nbformat_minor": 5
}
